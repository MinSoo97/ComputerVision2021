{
 "cells": [
  {
   "cell_type": "code",
   "execution_count": 1,
   "id": "73dc56b3",
   "metadata": {},
   "outputs": [],
   "source": [
    "def myfun(x,y):\n",
    "    return x*y"
   ]
  },
  {
   "cell_type": "code",
   "execution_count": 2,
   "id": "862469e8",
   "metadata": {},
   "outputs": [
    {
     "data": {
      "text/plain": [
       "12"
      ]
     },
     "execution_count": 2,
     "metadata": {},
     "output_type": "execute_result"
    }
   ],
   "source": [
    "myfun(3,4)"
   ]
  },
  {
   "cell_type": "code",
   "execution_count": 3,
   "id": "c6a7a901",
   "metadata": {},
   "outputs": [],
   "source": [
    "def myfun(x):\n",
    "    return x*3"
   ]
  },
  {
   "cell_type": "code",
   "execution_count": 4,
   "id": "d4e6d80c",
   "metadata": {},
   "outputs": [],
   "source": [
    "def apply(q,x):\n",
    "    return q(x)"
   ]
  },
  {
   "cell_type": "code",
   "execution_count": 5,
   "id": "80099c5b",
   "metadata": {},
   "outputs": [
    {
     "data": {
      "text/plain": [
       "21"
      ]
     },
     "execution_count": 5,
     "metadata": {},
     "output_type": "execute_result"
    }
   ],
   "source": [
    "apply(myfun,7)"
   ]
  },
  {
   "cell_type": "code",
   "execution_count": 6,
   "id": "8e6800a7",
   "metadata": {},
   "outputs": [
    {
     "data": {
      "text/plain": [
       "28"
      ]
     },
     "execution_count": 6,
     "metadata": {},
     "output_type": "execute_result"
    }
   ],
   "source": [
    "apply(lambda z:z*4,7)"
   ]
  },
  {
   "cell_type": "code",
   "execution_count": 7,
   "id": "da374a92",
   "metadata": {},
   "outputs": [],
   "source": [
    "def myfun(b, c=3, d=\"hello\"):\n",
    "    return b+c"
   ]
  },
  {
   "cell_type": "code",
   "execution_count": 8,
   "id": "3a2b3e8e",
   "metadata": {},
   "outputs": [
    {
     "data": {
      "text/plain": [
       "8"
      ]
     },
     "execution_count": 8,
     "metadata": {},
     "output_type": "execute_result"
    }
   ],
   "source": [
    "myfun(5,3,\"hello\")"
   ]
  },
  {
   "cell_type": "code",
   "execution_count": 9,
   "id": "6b241c43",
   "metadata": {},
   "outputs": [
    {
     "data": {
      "text/plain": [
       "8"
      ]
     },
     "execution_count": 9,
     "metadata": {},
     "output_type": "execute_result"
    }
   ],
   "source": [
    "myfun(5,3)"
   ]
  },
  {
   "cell_type": "code",
   "execution_count": 10,
   "id": "eb687bf6",
   "metadata": {},
   "outputs": [
    {
     "data": {
      "text/plain": [
       "8"
      ]
     },
     "execution_count": 10,
     "metadata": {},
     "output_type": "execute_result"
    }
   ],
   "source": [
    "myfun(5)"
   ]
  },
  {
   "cell_type": "code",
   "execution_count": 12,
   "id": "2631430d",
   "metadata": {},
   "outputs": [],
   "source": [
    "def myfun (a,b,c):\n",
    "    return a-b"
   ]
  },
  {
   "cell_type": "code",
   "execution_count": 14,
   "id": "33e6544d",
   "metadata": {},
   "outputs": [
    {
     "data": {
      "text/plain": [
       "1"
      ]
     },
     "execution_count": 14,
     "metadata": {},
     "output_type": "execute_result"
    }
   ],
   "source": [
    "myfun(2,1,43)"
   ]
  },
  {
   "cell_type": "code",
   "execution_count": 15,
   "id": "a81a6b0c",
   "metadata": {},
   "outputs": [
    {
     "data": {
      "text/plain": [
       "1"
      ]
     },
     "execution_count": 15,
     "metadata": {},
     "output_type": "execute_result"
    }
   ],
   "source": [
    "myfun(c=43,b=1,a=2)"
   ]
  },
  {
   "cell_type": "code",
   "execution_count": 16,
   "id": "2cadad7a",
   "metadata": {},
   "outputs": [
    {
     "data": {
      "text/plain": [
       "1"
      ]
     },
     "execution_count": 16,
     "metadata": {},
     "output_type": "execute_result"
    }
   ],
   "source": [
    "myfun(2,c=43,b=1)"
   ]
  },
  {
   "cell_type": "code",
   "execution_count": null,
   "id": "90e9b441",
   "metadata": {},
   "outputs": [],
   "source": []
  }
 ],
 "metadata": {
  "kernelspec": {
   "display_name": "Python 3",
   "language": "python",
   "name": "python3"
  },
  "language_info": {
   "codemirror_mode": {
    "name": "ipython",
    "version": 3
   },
   "file_extension": ".py",
   "mimetype": "text/x-python",
   "name": "python",
   "nbconvert_exporter": "python",
   "pygments_lexer": "ipython3",
   "version": "3.6.9"
  }
 },
 "nbformat": 4,
 "nbformat_minor": 5
}
