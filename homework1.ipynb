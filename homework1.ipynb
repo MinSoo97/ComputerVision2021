{
 "cells": [
  {
   "cell_type": "code",
   "execution_count": 1,
   "id": "7823ea7b",
   "metadata": {},
   "outputs": [],
   "source": [
    "import cv2\n",
    "import numpy as np\n",
    "def nothing(x):\n",
    "    pass"
   ]
  },
  {
   "cell_type": "code",
   "execution_count": 2,
   "id": "5b550028",
   "metadata": {},
   "outputs": [
    {
     "data": {
      "text/plain": [
       "array([[[210, 242, 254],\n",
       "        [211, 241, 254],\n",
       "        [214, 240, 254],\n",
       "        ...,\n",
       "        [253, 254, 254],\n",
       "        [233, 248, 255],\n",
       "        [213, 242, 255]],\n",
       "\n",
       "       [[210, 242, 254],\n",
       "        [211, 241, 254],\n",
       "        [214, 240, 254],\n",
       "        ...,\n",
       "        [253, 254, 254],\n",
       "        [233, 248, 255],\n",
       "        [213, 242, 255]],\n",
       "\n",
       "       [[210, 242, 254],\n",
       "        [211, 241, 254],\n",
       "        [214, 240, 254],\n",
       "        ...,\n",
       "        [253, 254, 254],\n",
       "        [233, 248, 255],\n",
       "        [213, 242, 255]],\n",
       "\n",
       "       ...,\n",
       "\n",
       "       [[237, 249, 255],\n",
       "        [237, 248, 255],\n",
       "        [235, 248, 255],\n",
       "        ...,\n",
       "        [254, 255, 255],\n",
       "        [246, 252, 254],\n",
       "        [236, 249, 254]],\n",
       "\n",
       "       [[237, 249, 255],\n",
       "        [237, 248, 255],\n",
       "        [235, 248, 255],\n",
       "        ...,\n",
       "        [254, 255, 255],\n",
       "        [246, 252, 254],\n",
       "        [236, 249, 254]],\n",
       "\n",
       "       [[237, 249, 255],\n",
       "        [237, 248, 255],\n",
       "        [235, 248, 255],\n",
       "        ...,\n",
       "        [254, 255, 255],\n",
       "        [246, 252, 254],\n",
       "        [236, 249, 254]]], dtype=uint8)"
      ]
     },
     "execution_count": 2,
     "metadata": {},
     "output_type": "execute_result"
    }
   ],
   "source": [
    "img = cv2.imread('img2.png')\n",
    "output = img.copy()\n",
    "cv2.namedWindow('image')\n",
    "r=0\n",
    "cv2.createTrackbar('value','image',0,255,nothing)\n",
    "\n",
    "cv2.rectangle(img, (200, 200), (800, 500), (0, 0, 255), -1)\n",
    "cv2.addWeighted(img, 0.5, output, 1 - .5, 0, output)"
   ]
  },
  {
   "cell_type": "code",
   "execution_count": null,
   "id": "39ea1b72",
   "metadata": {},
   "outputs": [],
   "source": [
    "while(1):\n",
    "    cv2.imshow('image',output)\n",
    "    k = cv2.waitKey(1) & 0xFF\n",
    "    if k == 27:\n",
    "        break\n",
    "cv2.destroyAllWindows()"
   ]
  },
  {
   "cell_type": "code",
   "execution_count": null,
   "id": "f9be6864",
   "metadata": {},
   "outputs": [],
   "source": []
  }
 ],
 "metadata": {
  "kernelspec": {
   "display_name": "Python 3",
   "language": "python",
   "name": "python3"
  },
  "language_info": {
   "codemirror_mode": {
    "name": "ipython",
    "version": 3
   },
   "file_extension": ".py",
   "mimetype": "text/x-python",
   "name": "python",
   "nbconvert_exporter": "python",
   "pygments_lexer": "ipython3",
   "version": "3.9.4"
  }
 },
 "nbformat": 4,
 "nbformat_minor": 5
}
