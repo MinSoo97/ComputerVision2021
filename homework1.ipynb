{
 "cells": [
  {
   "cell_type": "code",
   "execution_count": 1,
   "id": "9d067bc8",
   "metadata": {},
   "outputs": [],
   "source": [
    "import cv2\n",
    "import numpy as np\n",
    "def nothing(x):\n",
    "    pass"
   ]
  },
  {
   "cell_type": "code",
   "execution_count": 2,
   "id": "b0cacc36",
   "metadata": {},
   "outputs": [],
   "source": [
    "drawing = False \n",
    "mode = True \n",
    "ix,iy = -1,-1\n",
    "rx,ry = -1,-1\n",
    "mode = 1"
   ]
  },
  {
   "cell_type": "code",
   "execution_count": 3,
   "id": "8649ad8f",
   "metadata": {},
   "outputs": [],
   "source": [
    "# mouse callback function\n",
    "def draw_rectangle(event,x,y,flags,param):\n",
    "    global ix,iy,rx,ry,drawing,mode\n",
    "    if event == cv2.EVENT_LBUTTONDOWN:\n",
    "        drawing = True\n",
    "        ix,iy = x,y\n",
    "    elif event == cv2.EVENT_MOUSEMOVE:\n",
    "        if drawing == True:\n",
    "            #cv2.rectangle(img,(ix,iy),(x,y),(0,255,0),0)\n",
    "            rx,ry = x,y\n",
    "    elif event == cv2.EVENT_LBUTTONUP:\n",
    "        drawing = False\n",
    "        #cv2.rectangle(img,(ix,iy),(x,y),(0,255,0),0)   \n",
    "        rx,ry=x,y"
   ]
  },
  {
   "cell_type": "code",
   "execution_count": 4,
   "id": "4dfce611",
   "metadata": {},
   "outputs": [],
   "source": [
    "font = cv2.FONT_HERSHEY_SIMPLEX\n",
    "img = cv2.imread('img2.png')\n",
    "cv2.namedWindow('image')\n",
    "cv2.setMouseCallback('image',draw_rectangle)\n",
    "cv2.createTrackbar('value','image',0,255,nothing)\n",
    "while(1):\n",
    "    img = cv2.imread('img2.png')\n",
    "    k = cv2.waitKey(1) & 0xFF\n",
    "    if k == ord('m'):\n",
    "        mode += 1\n",
    "        if mode > 3:\n",
    "            mode = 1\n",
    "    elif k == 27:\n",
    "        break\n",
    "    value = cv2.getTrackbarPos('value','image')\n",
    "    if ix != -1 and iy != -1:\n",
    "        cv2.rectangle(img,(ix,iy),(rx,ry),(0,255,0),0)\n",
    "        if mode == 1:\n",
    "            clip = img[iy:ry,ix:rx]\n",
    "            clip[:,:,1]=0 #green = 0\n",
    "            clip[:,:,2]=0 #red = 0\n",
    "        elif mode == 2:\n",
    "            clip = img[iy:ry,ix:rx]\n",
    "            clip[:,:,0]=0 #blue = 0\n",
    "            clip[:,:,1]=0\n",
    "        elif mode == 3:\n",
    "            clip = img[iy:ry,ix:rx]\n",
    "            clip[:,:,0]=0\n",
    "            clip[:,:,2]=0 \n",
    "    mouse_pos = \"Mouse position (\"+str(ix)+\",\"+str(iy)+\") - (\"+str(rx)+\",\"+str(ry)+\") - \" +str(value) +\" -\"+str(mode)\n",
    "    cv2.putText(img,mouse_pos,(10,30),font,.6,(0,0,0),2,cv2.LINE_AA)\n",
    "    cv2.imshow('image',img)\n",
    "cv2.destroyAllWindows()"
   ]
  },
  {
   "cell_type": "code",
   "execution_count": null,
   "id": "b7b11a6f",
   "metadata": {},
   "outputs": [],
   "source": []
  },
  {
   "cell_type": "code",
   "execution_count": null,
   "id": "e24a0fe2",
   "metadata": {},
   "outputs": [],
   "source": []
  }
 ],
 "metadata": {
  "kernelspec": {
   "display_name": "Python 3",
   "language": "python",
   "name": "python3"
  },
  "language_info": {
   "codemirror_mode": {
    "name": "ipython",
    "version": 3
   },
   "file_extension": ".py",
   "mimetype": "text/x-python",
   "name": "python",
   "nbconvert_exporter": "python",
   "pygments_lexer": "ipython3",
   "version": "3.9.4"
  }
 },
 "nbformat": 4,
 "nbformat_minor": 5
}
