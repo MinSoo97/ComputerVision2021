{
 "cells": [
  {
   "cell_type": "code",
   "execution_count": 1,
   "id": "4bc36289",
   "metadata": {},
   "outputs": [],
   "source": [
    "li = ['abc',23,4.34,23]"
   ]
  },
  {
   "cell_type": "code",
   "execution_count": 2,
   "id": "a9ee50fb",
   "metadata": {},
   "outputs": [],
   "source": [
    "li[1] = 45"
   ]
  },
  {
   "cell_type": "code",
   "execution_count": 3,
   "id": "3ce68a9a",
   "metadata": {},
   "outputs": [
    {
     "data": {
      "text/plain": [
       "['abc', 45, 4.34, 23]"
      ]
     },
     "execution_count": 3,
     "metadata": {},
     "output_type": "execute_result"
    }
   ],
   "source": [
    "li"
   ]
  },
  {
   "cell_type": "code",
   "execution_count": 4,
   "id": "4a138e59",
   "metadata": {},
   "outputs": [],
   "source": [
    "t = (23,'abc',4.56,(2,3),'def')"
   ]
  },
  {
   "cell_type": "code",
   "execution_count": 5,
   "id": "c8834ab2",
   "metadata": {},
   "outputs": [
    {
     "ename": "TypeError",
     "evalue": "'tuple' object does not support item assignment",
     "output_type": "error",
     "traceback": [
      "\u001b[1;31m---------------------------------------------------------------------------\u001b[0m",
      "\u001b[1;31mTypeError\u001b[0m                                 Traceback (most recent call last)",
      "\u001b[1;32m<ipython-input-5-0c5a1fd0e648>\u001b[0m in \u001b[0;36m<module>\u001b[1;34m\u001b[0m\n\u001b[1;32m----> 1\u001b[1;33m \u001b[0mt\u001b[0m\u001b[1;33m[\u001b[0m\u001b[1;36m2\u001b[0m\u001b[1;33m]\u001b[0m \u001b[1;33m=\u001b[0m \u001b[1;36m3.14\u001b[0m\u001b[1;33m\u001b[0m\u001b[1;33m\u001b[0m\u001b[0m\n\u001b[0m",
      "\u001b[1;31mTypeError\u001b[0m: 'tuple' object does not support item assignment"
     ]
    }
   ],
   "source": [
    "t[2] = 3.14"
   ]
  },
  {
   "cell_type": "code",
   "execution_count": 6,
   "id": "38712963",
   "metadata": {},
   "outputs": [],
   "source": [
    "li = [1,11,3,4,5]"
   ]
  },
  {
   "cell_type": "code",
   "execution_count": 7,
   "id": "db5ee855",
   "metadata": {},
   "outputs": [],
   "source": [
    "li.append('a') #가장 뒤에 a를 추가한다."
   ]
  },
  {
   "cell_type": "code",
   "execution_count": 8,
   "id": "9de968ea",
   "metadata": {},
   "outputs": [
    {
     "data": {
      "text/plain": [
       "[1, 11, 3, 4, 5, 'a']"
      ]
     },
     "execution_count": 8,
     "metadata": {},
     "output_type": "execute_result"
    }
   ],
   "source": [
    "li"
   ]
  },
  {
   "cell_type": "code",
   "execution_count": 9,
   "id": "dd9f9aba",
   "metadata": {},
   "outputs": [],
   "source": [
    "li.insert(2,'i') #배열 2번째에 i를 추가한다."
   ]
  },
  {
   "cell_type": "code",
   "execution_count": 10,
   "id": "15fc82e7",
   "metadata": {},
   "outputs": [
    {
     "data": {
      "text/plain": [
       "[1, 11, 'i', 3, 4, 5, 'a']"
      ]
     },
     "execution_count": 10,
     "metadata": {},
     "output_type": "execute_result"
    }
   ],
   "source": [
    "li"
   ]
  },
  {
   "cell_type": "code",
   "execution_count": 11,
   "id": "a06d00e8",
   "metadata": {},
   "outputs": [],
   "source": [
    "li.extend([9,8,7]) #9,8,7을 배열에 추가한다."
   ]
  },
  {
   "cell_type": "code",
   "execution_count": 12,
   "id": "a79644a8",
   "metadata": {},
   "outputs": [
    {
     "data": {
      "text/plain": [
       "[1, 11, 'i', 3, 4, 5, 'a', 9, 8, 7]"
      ]
     },
     "execution_count": 12,
     "metadata": {},
     "output_type": "execute_result"
    }
   ],
   "source": [
    "li"
   ]
  },
  {
   "cell_type": "code",
   "execution_count": 13,
   "id": "6aad2717",
   "metadata": {},
   "outputs": [],
   "source": [
    "li.append([10,11,12]) #[10,11,12] 라는 속성을 배열에 추가한다."
   ]
  },
  {
   "cell_type": "code",
   "execution_count": 14,
   "id": "310635e1",
   "metadata": {},
   "outputs": [
    {
     "data": {
      "text/plain": [
       "[1, 11, 'i', 3, 4, 5, 'a', 9, 8, 7, [10, 11, 12]]"
      ]
     },
     "execution_count": 14,
     "metadata": {},
     "output_type": "execute_result"
    }
   ],
   "source": [
    "li"
   ]
  },
  {
   "cell_type": "code",
   "execution_count": 15,
   "id": "c5b181ea",
   "metadata": {},
   "outputs": [],
   "source": [
    "li = ['a','b','c','b']"
   ]
  },
  {
   "cell_type": "code",
   "execution_count": 16,
   "id": "c39e2391",
   "metadata": {},
   "outputs": [
    {
     "data": {
      "text/plain": [
       "1"
      ]
     },
     "execution_count": 16,
     "metadata": {},
     "output_type": "execute_result"
    }
   ],
   "source": [
    "li.index('b') #인덱스 가 몇번쨰에 있는지 찾는다"
   ]
  },
  {
   "cell_type": "code",
   "execution_count": 17,
   "id": "dfdda45f",
   "metadata": {},
   "outputs": [
    {
     "data": {
      "text/plain": [
       "2"
      ]
     },
     "execution_count": 17,
     "metadata": {},
     "output_type": "execute_result"
    }
   ],
   "source": [
    "li.count('b') #배열안에 몇개 가지고 있는지 찾는다"
   ]
  },
  {
   "cell_type": "code",
   "execution_count": 18,
   "id": "ddaa6bbd",
   "metadata": {},
   "outputs": [],
   "source": [
    "li.remove('b') #배열에서 b를 삭제한다"
   ]
  },
  {
   "cell_type": "code",
   "execution_count": 19,
   "id": "47f6f565",
   "metadata": {},
   "outputs": [
    {
     "data": {
      "text/plain": [
       "['a', 'c', 'b']"
      ]
     },
     "execution_count": 19,
     "metadata": {},
     "output_type": "execute_result"
    }
   ],
   "source": [
    "li"
   ]
  },
  {
   "cell_type": "code",
   "execution_count": 21,
   "id": "7729129b",
   "metadata": {},
   "outputs": [],
   "source": [
    "li = [5,2,6,8]"
   ]
  },
  {
   "cell_type": "code",
   "execution_count": 22,
   "id": "30b3a6b6",
   "metadata": {},
   "outputs": [],
   "source": [
    " li.reverse() #배열 순서를 바꾼다."
   ]
  },
  {
   "cell_type": "code",
   "execution_count": 23,
   "id": "62071be9",
   "metadata": {},
   "outputs": [
    {
     "data": {
      "text/plain": [
       "[8, 6, 2, 5]"
      ]
     },
     "execution_count": 23,
     "metadata": {},
     "output_type": "execute_result"
    }
   ],
   "source": [
    "li "
   ]
  },
  {
   "cell_type": "code",
   "execution_count": 24,
   "id": "525110e4",
   "metadata": {},
   "outputs": [],
   "source": [
    "li.sort() #배열을 오름차순 정리한다."
   ]
  },
  {
   "cell_type": "code",
   "execution_count": 25,
   "id": "78057999",
   "metadata": {},
   "outputs": [
    {
     "data": {
      "text/plain": [
       "[2, 5, 6, 8]"
      ]
     },
     "execution_count": 25,
     "metadata": {},
     "output_type": "execute_result"
    }
   ],
   "source": [
    "li"
   ]
  },
  {
   "cell_type": "code",
   "execution_count": null,
   "id": "2c620cfd",
   "metadata": {},
   "outputs": [],
   "source": []
  }
 ],
 "metadata": {
  "kernelspec": {
   "display_name": "Python 3",
   "language": "python",
   "name": "python3"
  },
  "language_info": {
   "codemirror_mode": {
    "name": "ipython",
    "version": 3
   },
   "file_extension": ".py",
   "mimetype": "text/x-python",
   "name": "python",
   "nbconvert_exporter": "python",
   "pygments_lexer": "ipython3",
   "version": "3.6.9"
  }
 },
 "nbformat": 4,
 "nbformat_minor": 5
}
