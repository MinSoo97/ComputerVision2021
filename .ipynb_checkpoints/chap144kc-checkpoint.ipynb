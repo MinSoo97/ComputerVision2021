{
 "cells": [
  {
   "cell_type": "markdown",
   "metadata": {},
   "source": [
    "# 1.4.4 Smoothing Images"
   ]
  },
  {
   "cell_type": "markdown",
   "metadata": {},
   "source": [
    "## Kernel Convolution"
   ]
  },
  {
   "cell_type": "code",
   "execution_count": 1,
   "metadata": {},
   "outputs": [],
   "source": [
    "import cv2\n",
    "import numpy as np\n",
    "from matplotlib import pyplot as plt"
   ]
  },
  {
   "cell_type": "code",
   "execution_count": 18,
   "metadata": {},
   "outputs": [],
   "source": [
    "l=1\n",
    "kernel = np.array([[0,-1,0],[-1,5,-1],[0,-1,0]],np.float32)"
   ]
  },
  {
   "cell_type": "code",
   "execution_count": 19,
   "metadata": {},
   "outputs": [
    {
     "data": {
      "text/plain": [
       "array([[ 0., -1.,  0.],\n",
       "       [-1.,  5., -1.],\n",
       "       [ 0., -1.,  0.]], dtype=float32)"
      ]
     },
     "execution_count": 19,
     "metadata": {},
     "output_type": "execute_result"
    }
   ],
   "source": [
    "kernel"
   ]
  },
  {
   "cell_type": "code",
   "execution_count": 20,
   "metadata": {},
   "outputs": [],
   "source": [
    "img = np.random.randint(10, size=(12,12))\n",
    "#img = np.ones((10,10),np.float32)"
   ]
  },
  {
   "cell_type": "code",
   "execution_count": 21,
   "metadata": {},
   "outputs": [
    {
     "data": {
      "text/plain": [
       "array([[8, 8, 2, 3, 0, 0, 8, 3, 5, 1, 5, 9],\n",
       "       [3, 0, 3, 1, 1, 6, 4, 1, 0, 7, 5, 3],\n",
       "       [0, 3, 2, 9, 9, 3, 3, 8, 8, 6, 4, 3],\n",
       "       [5, 1, 1, 9, 1, 0, 0, 1, 9, 4, 5, 3],\n",
       "       [0, 7, 8, 7, 4, 9, 5, 1, 3, 5, 3, 8],\n",
       "       [9, 0, 8, 9, 0, 5, 1, 8, 0, 7, 3, 3],\n",
       "       [4, 9, 2, 6, 9, 1, 9, 0, 4, 8, 5, 5],\n",
       "       [6, 0, 2, 4, 9, 7, 1, 2, 7, 8, 7, 9],\n",
       "       [4, 6, 6, 8, 1, 6, 0, 5, 2, 8, 5, 1],\n",
       "       [3, 0, 3, 8, 6, 5, 7, 0, 3, 0, 2, 2],\n",
       "       [1, 3, 1, 6, 0, 5, 5, 4, 9, 0, 0, 5],\n",
       "       [6, 4, 4, 3, 9, 8, 3, 1, 2, 2, 0, 0]])"
      ]
     },
     "execution_count": 21,
     "metadata": {},
     "output_type": "execute_result"
    }
   ],
   "source": [
    "img"
   ]
  },
  {
   "cell_type": "code",
   "execution_count": 22,
   "metadata": {},
   "outputs": [],
   "source": [
    "h,w=img.shape"
   ]
  },
  {
   "cell_type": "code",
   "execution_count": 23,
   "metadata": {},
   "outputs": [
    {
     "name": "stdout",
     "output_type": "stream",
     "text": [
      "12 12\n"
     ]
    }
   ],
   "source": [
    "print(h,w)"
   ]
  },
  {
   "cell_type": "code",
   "execution_count": 24,
   "metadata": {},
   "outputs": [],
   "source": [
    "#[*range(-2,3)]"
   ]
  },
  {
   "cell_type": "code",
   "execution_count": 25,
   "metadata": {},
   "outputs": [
    {
     "name": "stderr",
     "output_type": "stream",
     "text": [
      "<ipython-input-25-6137fcb8b1c2>:1: DeprecationWarning: `np.int` is a deprecated alias for the builtin `int`. To silence this warning, use `int` by itself. Doing this will not modify any behavior and is safe. When replacing `np.int`, you may wish to use e.g. `np.int64` or `np.int32` to specify the precision. If you wish to review your current use, check the release note link for additional information.\n",
      "Deprecated in NumPy 1.20; for more details and guidance: https://numpy.org/devdocs/release/1.20.0-notes.html#deprecations\n",
      "  dst = np.zeros((h,w),np.int)\n"
     ]
    }
   ],
   "source": [
    "dst = np.zeros((h,w),np.int)"
   ]
  },
  {
   "cell_type": "code",
   "execution_count": 26,
   "metadata": {},
   "outputs": [],
   "source": [
    "for i in range(l,h-l):\n",
    "    for j in range(l,w-l):\n",
    "        t=0\n",
    "        for p in range(-l,l+1):\n",
    "            for q in range(-l,l+1):\n",
    "                t += kernel[p+l,q+l]*img[i+p,j+q]\n",
    "        dst[i,j]=t        "
   ]
  },
  {
   "cell_type": "code",
   "execution_count": 27,
   "metadata": {},
   "outputs": [
    {
     "data": {
      "text/plain": [
       "array([[8, 8, 2, 3, 0, 0, 8, 3, 5, 1, 5, 9],\n",
       "       [3, 0, 3, 1, 1, 6, 4, 1, 0, 7, 5, 3],\n",
       "       [0, 3, 2, 9, 9, 3, 3, 8, 8, 6, 4, 3],\n",
       "       [5, 1, 1, 9, 1, 0, 0, 1, 9, 4, 5, 3],\n",
       "       [0, 7, 8, 7, 4, 9, 5, 1, 3, 5, 3, 8],\n",
       "       [9, 0, 8, 9, 0, 5, 1, 8, 0, 7, 3, 3],\n",
       "       [4, 9, 2, 6, 9, 1, 9, 0, 4, 8, 5, 5],\n",
       "       [6, 0, 2, 4, 9, 7, 1, 2, 7, 8, 7, 9],\n",
       "       [4, 6, 6, 8, 1, 6, 0, 5, 2, 8, 5, 1],\n",
       "       [3, 0, 3, 8, 6, 5, 7, 0, 3, 0, 2, 2],\n",
       "       [1, 3, 1, 6, 0, 5, 5, 4, 9, 0, 0, 5],\n",
       "       [6, 4, 4, 3, 9, 8, 3, 1, 2, 2, 0, 0]])"
      ]
     },
     "execution_count": 27,
     "metadata": {},
     "output_type": "execute_result"
    }
   ],
   "source": [
    "img"
   ]
  },
  {
   "cell_type": "code",
   "execution_count": 28,
   "metadata": {},
   "outputs": [
    {
     "data": {
      "text/plain": [
       "array([[  0,   0,   0,   0,   0,   0,   0,   0,   0,   0,   0,   0],\n",
       "       [  0, -17,  10, -11, -11,  22,   2, -10, -21,  23,   6,   0],\n",
       "       [  0,  12,  -6,  24,  31,  -3,   0,  27,  17,   7,   1,   0],\n",
       "       [  0, -11, -15,  27, -17, -13,  -9, -13,  29,  -5,  11,   0],\n",
       "       [  0,  26,  17,   5,   3,  31,  14, -12,   0,   8,  -6,   0],\n",
       "       [  0, -33,  21,  24, -27,  14, -22,  38, -22,  19,  -3,   0],\n",
       "       [  0,  39, -15,   6,  29, -25,  42, -23,   5,  16,   2,   0],\n",
       "       [  0, -23,  -2,  -5,  24,  18, -13,  -3,  19,  10,   8,   0],\n",
       "       [  0,  20,  11,  21, -24,  17, -19,  21, -13,  25,   7,   0],\n",
       "       [  0, -15,   0,  17,  16,   1,  25, -19,   4, -13,   3,   0],\n",
       "       [  0,   9, -11,  18, -26,   7,   6,   5,  36, -11,  -7,   0],\n",
       "       [  0,   0,   0,   0,   0,   0,   0,   0,   0,   0,   0,   0]])"
      ]
     },
     "execution_count": 28,
     "metadata": {},
     "output_type": "execute_result"
    }
   ],
   "source": [
    "dst"
   ]
  },
  {
   "cell_type": "code",
   "execution_count": 29,
   "metadata": {},
   "outputs": [],
   "source": [
    "img = cv2.imread('lena.png', 0)"
   ]
  },
  {
   "cell_type": "code",
   "execution_count": 30,
   "metadata": {},
   "outputs": [],
   "source": [
    "h,w=img.shape"
   ]
  },
  {
   "cell_type": "code",
   "execution_count": 31,
   "metadata": {},
   "outputs": [],
   "source": [
    "dst = np.zeros((h-2*l,w-2*l),np.uint8)"
   ]
  },
  {
   "cell_type": "code",
   "execution_count": 32,
   "metadata": {},
   "outputs": [],
   "source": [
    "for i in range(l,h-l):\n",
    "    for j in range(l,w-l):\n",
    "        t=0\n",
    "        for p in range(-l,l+1):\n",
    "            for q in range(-l,l+1):\n",
    "                t += kernel[p+l,q+l]*img[i+p,j+q]\n",
    "        dst[i-l,j-l]=t "
   ]
  },
  {
   "cell_type": "code",
   "execution_count": 33,
   "metadata": {},
   "outputs": [],
   "source": [
    "cv2.imshow('img',img)\n",
    "cv2.imshow('dst',dst)\n",
    "cv2.waitKey(0)\n",
    "cv2.destroyAllWindows()"
   ]
  },
  {
   "cell_type": "code",
   "execution_count": null,
   "metadata": {},
   "outputs": [],
   "source": []
  }
 ],
 "metadata": {
  "kernelspec": {
   "display_name": "Python 3",
   "language": "python",
   "name": "python3"
  },
  "language_info": {
   "codemirror_mode": {
    "name": "ipython",
    "version": 3
   },
   "file_extension": ".py",
   "mimetype": "text/x-python",
   "name": "python",
   "nbconvert_exporter": "python",
   "pygments_lexer": "ipython3",
   "version": "3.9.4"
  }
 },
 "nbformat": 4,
 "nbformat_minor": 4
}
