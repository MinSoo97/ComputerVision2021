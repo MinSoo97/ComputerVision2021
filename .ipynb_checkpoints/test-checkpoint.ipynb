{
 "cells": [
  {
   "cell_type": "code",
   "execution_count": 12,
   "id": "2d1c94cd",
   "metadata": {},
   "outputs": [],
   "source": [
    "import cv2\n",
    "import numpy as np"
   ]
  },
  {
   "cell_type": "code",
   "execution_count": 13,
   "id": "f1063bb9",
   "metadata": {},
   "outputs": [],
   "source": [
    "drawing = False # true if mouse is pressed\n",
    "mode = True # if True, draw rectangle. Press 'm' to toggle to curve\n",
    "ix,iy = -1,-1\n",
    "\n",
    "# mouse callback funtion\n",
    "\n",
    "def draw_ract(event,x,y,flags,parm):\n",
    "    global ix,iy,drawing\n",
    "    if event == cv2.EVENT_LBUTTONDOWN:\n",
    "        drawing = True\n",
    "        ix,iy = x,y\n",
    "    elif event == cv2.EVENT_MOUSEMOVE:\n",
    "        if drawing == True:\n",
    "            if mode == True:\n",
    "                cv2.rectangle(img,(ix,iy),(x,y),(0,0,255),-1)\n",
    "                cv2.addWeighted(img,0.5,output,1 - .5, 0, output)\n",
    "    elif event == cv2.EVENT_LBUTTONUP:\n",
    "        drawing = False\n",
    "        if mode == True:\n",
    "            cv2.rectangle(img,(ix,iy),(x,y),(0,0,255),-1)\n",
    "            cv2.addWeighted(img,0.5,output,1 - .5, 0, output)\n"
   ]
  },
  {
   "cell_type": "code",
   "execution_count": 14,
   "id": "1c05e697",
   "metadata": {},
   "outputs": [],
   "source": [
    "#img = np.zeros((512,512,3), np.uint8)\n",
    "img = cv2.imread('img2.png')\n",
    "cv2.namedWindow('image')\n",
    "cv2.setMouseCallback('image',draw_ract)\n",
    "\n",
    "#cv2.createTrackbar('value','image',0,255,nothing)\n",
    "while(1):\n",
    "    output = np.copy(img)\n",
    "\n",
    "    cv2.imshow('image',output)\n",
    "    k = cv2.waitKey(1) & 0xFF\n",
    "    if k == 27:\n",
    "        break\n",
    "cv2.destroyAllWindows()"
   ]
  },
  {
   "cell_type": "code",
   "execution_count": null,
   "id": "505a0798",
   "metadata": {},
   "outputs": [],
   "source": []
  },
  {
   "cell_type": "code",
   "execution_count": null,
   "id": "8edf7a44",
   "metadata": {},
   "outputs": [],
   "source": []
  }
 ],
 "metadata": {
  "kernelspec": {
   "display_name": "Python 3",
   "language": "python",
   "name": "python3"
  },
  "language_info": {
   "codemirror_mode": {
    "name": "ipython",
    "version": 3
   },
   "file_extension": ".py",
   "mimetype": "text/x-python",
   "name": "python",
   "nbconvert_exporter": "python",
   "pygments_lexer": "ipython3",
   "version": "3.9.4"
  }
 },
 "nbformat": 4,
 "nbformat_minor": 5
}
