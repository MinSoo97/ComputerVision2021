{
 "cells": [
  {
   "cell_type": "markdown",
   "id": "24c0b485",
   "metadata": {},
   "source": [
    "## 1.3.2 Arithmetic Operations on Images"
   ]
  },
  {
   "cell_type": "code",
   "execution_count": 4,
   "id": "6937a600",
   "metadata": {},
   "outputs": [],
   "source": [
    "import cv2\n",
    "import numpy as np\n",
    "from matplotlib import pyplot as plt"
   ]
  },
  {
   "cell_type": "code",
   "execution_count": 5,
   "id": "989f2598",
   "metadata": {},
   "outputs": [],
   "source": [
    "x = np.uint8([250])\n",
    "y = np.uint8([10])"
   ]
  },
  {
   "cell_type": "code",
   "execution_count": 6,
   "id": "42e9740e",
   "metadata": {},
   "outputs": [
    {
     "name": "stdout",
     "output_type": "stream",
     "text": [
      "[250] [10]\n"
     ]
    }
   ],
   "source": [
    "print(x,y)"
   ]
  },
  {
   "cell_type": "code",
   "execution_count": 7,
   "id": "2d39c5c6",
   "metadata": {},
   "outputs": [
    {
     "data": {
      "text/plain": [
       "array([4], dtype=uint8)"
      ]
     },
     "execution_count": 7,
     "metadata": {},
     "output_type": "execute_result"
    }
   ],
   "source": [
    "x+y"
   ]
  },
  {
   "cell_type": "code",
   "execution_count": 8,
   "id": "eb85adf0",
   "metadata": {},
   "outputs": [
    {
     "data": {
      "text/plain": [
       "array([[255]], dtype=uint8)"
      ]
     },
     "execution_count": 8,
     "metadata": {},
     "output_type": "execute_result"
    }
   ],
   "source": [
    "cv2.add(x,y)   #255를 넘어가는거는 다 255가 된다."
   ]
  },
  {
   "cell_type": "code",
   "execution_count": 19,
   "id": "a0d46567",
   "metadata": {},
   "outputs": [],
   "source": [
    "img1 = cv2.imread('img2.png')\n",
    "res1 = cv2.resize(img1, dsize=(800, 600), interpolation=cv2.INTER_CUBIC)\n",
    "img2 = cv2.imread('images.jpg')\n",
    "res2 = cv2.resize(img2, dsize=(800, 600), interpolation=cv2.INTER_CUBIC)\n"
   ]
  },
  {
   "cell_type": "code",
   "execution_count": 20,
   "id": "0dc51e6f",
   "metadata": {},
   "outputs": [],
   "source": [
    "def nothing(x):\n",
    "    pass\n"
   ]
  },
  {
   "cell_type": "code",
   "execution_count": null,
   "id": "a811151d",
   "metadata": {},
   "outputs": [],
   "source": [
    "cv2.namedWindow('image')\n",
    "cv2.createTrackbar('weight','image',0,255,nothing)\n",
    "\n",
    "weight = cv2.getTrackbarPos('weight','image')\n",
    "value = weight/255\n",
    "\n",
    "dst = cv2.addWeighted(res1,1-value,res2,value,0)\n",
    "\n",
    "\n",
    "cv2.imshow('image',dst)\n",
    "cv2.waitKey(0)\n",
    "cv2.destroyAllWindows()"
   ]
  },
  {
   "cell_type": "code",
   "execution_count": null,
   "id": "11bba142",
   "metadata": {},
   "outputs": [],
   "source": []
  }
 ],
 "metadata": {
  "kernelspec": {
   "display_name": "Python 3",
   "language": "python",
   "name": "python3"
  },
  "language_info": {
   "codemirror_mode": {
    "name": "ipython",
    "version": 3
   },
   "file_extension": ".py",
   "mimetype": "text/x-python",
   "name": "python",
   "nbconvert_exporter": "python",
   "pygments_lexer": "ipython3",
   "version": "3.9.4"
  }
 },
 "nbformat": 4,
 "nbformat_minor": 5
}
