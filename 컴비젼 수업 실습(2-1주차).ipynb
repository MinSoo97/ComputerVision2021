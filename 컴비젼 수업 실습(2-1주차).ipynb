{
 "cells": [
  {
   "cell_type": "markdown",
   "id": "56d4221f",
   "metadata": {},
   "source": [
    "# The Python Interpreter"
   ]
  },
  {
   "cell_type": "code",
   "execution_count": null,
   "id": "4455836a",
   "metadata": {},
   "outputs": [],
   "source": []
  },
  {
   "cell_type": "markdown",
   "id": "9c495ef1",
   "metadata": {},
   "source": [
    "###### 파이썬 markdown 은 으로 표시하면서  추가할때 마다 작아짐 6개 까지 되네?"
   ]
  },
  {
   "cell_type": "code",
   "execution_count": null,
   "id": "057b22db",
   "metadata": {},
   "outputs": [],
   "source": [
    "x,y = 2,3"
   ]
  },
  {
   "cell_type": "code",
   "execution_count": 2,
   "id": "1f1cdf2f",
   "metadata": {},
   "outputs": [
    {
     "data": {
      "text/plain": [
       "2"
      ]
     },
     "execution_count": 2,
     "metadata": {},
     "output_type": "execute_result"
    }
   ],
   "source": [
    "x"
   ]
  },
  {
   "cell_type": "code",
   "execution_count": 3,
   "id": "7eddf8ad",
   "metadata": {},
   "outputs": [
    {
     "data": {
      "text/plain": [
       "3"
      ]
     },
     "execution_count": 3,
     "metadata": {},
     "output_type": "execute_result"
    }
   ],
   "source": [
    "y"
   ]
  },
  {
   "cell_type": "code",
   "execution_count": 4,
   "id": "dcb412e8",
   "metadata": {},
   "outputs": [],
   "source": [
    "tu =(23,'abc',4.56,(2,3),'def') # --> immutable"
   ]
  },
  {
   "cell_type": "code",
   "execution_count": 5,
   "id": "3a27ab08",
   "metadata": {},
   "outputs": [
    {
     "data": {
      "text/plain": [
       "(23, 'abc', 4.56, (2, 3), 'def')"
      ]
     },
     "execution_count": 5,
     "metadata": {},
     "output_type": "execute_result"
    }
   ],
   "source": [
    "tu"
   ]
  },
  {
   "cell_type": "code",
   "execution_count": 14,
   "id": "5b58e936",
   "metadata": {},
   "outputs": [
    {
     "data": {
      "text/plain": [
       "('abc', 4.56, (2, 3))"
      ]
     },
     "execution_count": 14,
     "metadata": {},
     "output_type": "execute_result"
    }
   ],
   "source": [
    "tu[1:4]    #tu 배열의 1번째 부터 3번째 까지 출력"
   ]
  },
  {
   "cell_type": "code",
   "execution_count": 15,
   "id": "aed45c47",
   "metadata": {},
   "outputs": [
    {
     "data": {
      "text/plain": [
       "('abc', 4.56, (2, 3))"
      ]
     },
     "execution_count": 15,
     "metadata": {},
     "output_type": "execute_result"
    }
   ],
   "source": [
    "tu[1:-1] #tu 배열의 1번째 부터 제일 마지막 전 까지 출력"
   ]
  },
  {
   "cell_type": "code",
   "execution_count": 16,
   "id": "7f516586",
   "metadata": {},
   "outputs": [
    {
     "data": {
      "text/plain": [
       "'def'"
      ]
     },
     "execution_count": 16,
     "metadata": {},
     "output_type": "execute_result"
    }
   ],
   "source": [
    "tu[-1] #tu 배열의 마지막 출력"
   ]
  },
  {
   "cell_type": "code",
   "execution_count": 17,
   "id": "4e6f5c5b",
   "metadata": {},
   "outputs": [
    {
     "data": {
      "text/plain": [
       "('abc', (2, 3))"
      ]
     },
     "execution_count": 17,
     "metadata": {},
     "output_type": "execute_result"
    }
   ],
   "source": [
    "tu[1:-1:2]  #1~마지막 전까지 출력하는데 2칸씩 띄어서 출력"
   ]
  },
  {
   "cell_type": "code",
   "execution_count": 18,
   "id": "681ddb5f",
   "metadata": {},
   "outputs": [
    {
     "data": {
      "text/plain": [
       "(23, 'abc', 4.56, (2, 3))"
      ]
     },
     "execution_count": 18,
     "metadata": {},
     "output_type": "execute_result"
    }
   ],
   "source": [
    "tu[:4] # 0~3 까지 출력"
   ]
  },
  {
   "cell_type": "code",
   "execution_count": 19,
   "id": "65fa29b0",
   "metadata": {},
   "outputs": [
    {
     "data": {
      "text/plain": [
       "(4.56, (2, 3), 'def')"
      ]
     },
     "execution_count": 19,
     "metadata": {},
     "output_type": "execute_result"
    }
   ],
   "source": [
    "tu[2:] #2~끝 까지 출력"
   ]
  },
  {
   "cell_type": "code",
   "execution_count": 20,
   "id": "23757372",
   "metadata": {},
   "outputs": [
    {
     "data": {
      "text/plain": [
       "(23, 'abc', 4.56, (2, 3), 'def')"
      ]
     },
     "execution_count": 20,
     "metadata": {},
     "output_type": "execute_result"
    }
   ],
   "source": [
    "tu [:] #전체 출력"
   ]
  },
  {
   "cell_type": "code",
   "execution_count": 21,
   "id": "14a86cd1",
   "metadata": {},
   "outputs": [],
   "source": [
    "tu1 = tu"
   ]
  },
  {
   "cell_type": "code",
   "execution_count": 22,
   "id": "32f1d043",
   "metadata": {},
   "outputs": [
    {
     "name": "stdout",
     "output_type": "stream",
     "text": [
      "(23, 'abc', 4.56, (2, 3), 'def')\n"
     ]
    }
   ],
   "source": [
    "print(tu1)"
   ]
  },
  {
   "cell_type": "code",
   "execution_count": 24,
   "id": "c54c06bf",
   "metadata": {},
   "outputs": [
    {
     "ename": "TypeError",
     "evalue": "'tuple' object does not support item assignment",
     "output_type": "error",
     "traceback": [
      "\u001b[1;31m---------------------------------------------------------------------------\u001b[0m",
      "\u001b[1;31mTypeError\u001b[0m                                 Traceback (most recent call last)",
      "\u001b[1;32m<ipython-input-24-ca231ee7fabd>\u001b[0m in \u001b[0;36m<module>\u001b[1;34m\u001b[0m\n\u001b[1;32m----> 1\u001b[1;33m \u001b[0mtu1\u001b[0m\u001b[1;33m[\u001b[0m\u001b[1;36m0\u001b[0m\u001b[1;33m]\u001b[0m\u001b[1;33m=\u001b[0m\u001b[1;36m1\u001b[0m  \u001b[1;31m#튜블이기때문에 수정이 안된다 리스트로 바꿔서 진행해야함\u001b[0m\u001b[1;33m\u001b[0m\u001b[1;33m\u001b[0m\u001b[0m\n\u001b[0m",
      "\u001b[1;31mTypeError\u001b[0m: 'tuple' object does not support item assignment"
     ]
    }
   ],
   "source": [
    "tu1[0]=1  #튜블이기때문에 수정이 안된다 리스트로 바꿔서 진행해야함"
   ]
  },
  {
   "cell_type": "code",
   "execution_count": 27,
   "id": "c2bcd1c4",
   "metadata": {},
   "outputs": [],
   "source": [
    "li= [23, 'abc', 4.56, (2, 3), 'def'] #--> mutable   ()=> imutable"
   ]
  },
  {
   "cell_type": "code",
   "execution_count": null,
   "id": "91fa50fd",
   "metadata": {},
   "outputs": [],
   "source": []
  }
 ],
 "metadata": {
  "kernelspec": {
   "display_name": "Python 3",
   "language": "python",
   "name": "python3"
  },
  "language_info": {
   "codemirror_mode": {
    "name": "ipython",
    "version": 3
   },
   "file_extension": ".py",
   "mimetype": "text/x-python",
   "name": "python",
   "nbconvert_exporter": "python",
   "pygments_lexer": "ipython3",
   "version": "3.9.4"
  }
 },
 "nbformat": 4,
 "nbformat_minor": 5
}
